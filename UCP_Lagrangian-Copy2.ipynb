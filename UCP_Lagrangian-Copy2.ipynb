{
 "cells": [
  {
   "cell_type": "code",
   "execution_count": 1,
   "metadata": {
    "ExecuteTime": {
     "end_time": "2021-02-06T11:08:03.310190Z",
     "start_time": "2021-02-06T11:08:01.947671Z"
    }
   },
   "outputs": [],
   "source": [
    "from wurlitzer import sys_pipes\n",
    "import itertools\n",
    "import pandas as pd\n",
    "import numpy as np\n",
    "from plotnine import *\n",
    "\n",
    "import UCP.input.parser as ucp_parser\n",
    "import generic.optimization.solution_extraction as ucp_out\n",
    "from UCP.relaxations.lagrangian.production_state.relaxation import (\n",
    "    ProductionStateRelaxation,\n",
    ")\n",
    "from UCP.relaxations.lagrangian.demand_satisfaction import DemandSatRelaxation\n",
    "from UCP.relaxations.lagrangian.heuristic import combinatorial_heuristic\n",
    "from UCP.heuristics.commit_dispatch import commit_dispatch_heuristic\n",
    "from UCP.heuristics.rolling_horizon import rolling_horizon_heuristic\n",
    "\n",
    "from generic.series_dict import series_dict_to_array, series_dict_indexes, full_series_dict\n",
    "\n",
    "from generic.optimization.model import OptimizationSense\n",
    "from generic.optimization.dual_optimization.lagrangian_decomposition import multipliers_range, fill_multipliers\n",
    "\n",
    "from generic.optimization.dual_optimization.algorithms.cutting_plane import CuttingPlane\n",
    "\n",
    "from generic.optimization.dual_optimization.algorithms.subgradient import (\n",
    "    ComposableSubgradientMethod,\n",
    "    PolyakStepSizeRule,\n",
    "    CFMDeflection,\n",
    "    FixedTargetTracker,\n",
    ")\n",
    "\n",
    "from generic.optimization.dual_optimization.algorithms.subgradient.volume import (\n",
    "    VolumeAlgorithm,\n",
    "    BundleVolumeAlgorithm,\n",
    ")\n",
    "\n",
    "from generic.optimization.dual_optimization.combined_algorithm import CombinedAlgorithm, AlgorithmConfiguration, pretty_printer, KpiCollector, extract_kpis\n",
    "\n",
    "import UCP.output.check_solution as ck\n",
    "from generic.optimization.solution_extraction import extract_solution\n",
    "from UCP.output.charts import total_production, enp_vs_eie"
   ]
  },
  {
   "cell_type": "code",
   "execution_count": 2,
   "metadata": {
    "ExecuteTime": {
     "end_time": "2021-02-06T11:08:03.316452Z",
     "start_time": "2021-02-06T11:08:03.311586Z"
    }
   },
   "outputs": [],
   "source": [
    "theme_set(theme_bw() + theme(figure_size=(10, 10 / 1.61)))"
   ]
  },
  {
   "cell_type": "code",
   "execution_count": 3,
   "metadata": {
    "ExecuteTime": {
     "end_time": "2021-02-06T11:08:03.336772Z",
     "start_time": "2021-02-06T11:08:03.317852Z"
    }
   },
   "outputs": [],
   "source": [
    "data = ucp_parser.read_instance(\"./UCP/data/instance_5g.ucp\")"
   ]
  },
  {
   "cell_type": "code",
   "execution_count": 4,
   "metadata": {
    "ExecuteTime": {
     "end_time": "2021-02-06T11:08:03.395716Z",
     "start_time": "2021-02-06T11:08:03.339173Z"
    }
   },
   "outputs": [],
   "source": [
    "relaxation = ProductionStateRelaxation(data)\n",
    "\n",
    "var_lb, var_ub = tuple(\n",
    "    series_dict_to_array(**m)\n",
    "    for m in multipliers_range(relaxation.dualized_constraints)\n",
    ")"
   ]
  },
  {
   "cell_type": "code",
   "execution_count": 5,
   "metadata": {
    "ExecuteTime": {
     "end_time": "2021-02-06T11:08:03.403225Z",
     "start_time": "2021-02-06T11:08:03.398516Z"
    }
   },
   "outputs": [],
   "source": [
    "configuration = AlgorithmConfiguration(\n",
    "    primal_feasibility_tolerance=1e-4,\n",
    "    subgradient_tolerance=1e-6,\n",
    "    sgd_iterations=4,\n",
    "    cp_iterations=40,\n",
    "    sgd_start=False,\n",
    "    heuristic_frequency=5,\n",
    "    max_gap=0.025,\n",
    "    max_cp_gap=0.01,\n",
    "    relaxation_solver_options={},\n",
    "    cp_solver_options={},#{\"options\":[\"barr\", \"crossover off\"]},\n",
    "    max_iterations=40,\n",
    "    sgd_name=\"Polyak+CFM\"\n",
    ")\n",
    "\n",
    "combined_algorithm = CombinedAlgorithm(configuration)"
   ]
  },
  {
   "cell_type": "code",
   "execution_count": 6,
   "metadata": {
    "ExecuteTime": {
     "end_time": "2021-02-06T11:08:03.414456Z",
     "start_time": "2021-02-06T11:08:03.405875Z"
    },
    "scrolled": true
   },
   "outputs": [],
   "source": [
    "upper_bound = np.nan\n",
    "current_target = np.nan\n",
    "\n",
    "lower_cost_estimate = data.loads[\"value\"].sum() * data.thermal_plants[\"l_cost\"].min()\n",
    "upper_cost_estimate = data.loads[\"value\"].sum() * data.c_ENP\n",
    "\n",
    "fixed_tracker = FixedTargetTracker(sense=-relaxation.sense, overestimation_factor=0.2)\n",
    "\n",
    "def target_tracker(current_value: float) -> float:\n",
    "    upper_bound = combined_algorithm.best_primal_bound\n",
    "    if abs(upper_bound - current_value) / abs(current_value + 1e-3) > 0.2:\n",
    "        fixed_target = fixed_tracker(current_value)\n",
    "        result = max(fixed_target, lower_cost_estimate)\n",
    "    else:\n",
    "        result = upper_bound\n",
    "    current_target = result\n",
    "    return result\n",
    "\n",
    "\n",
    "\n",
    "sgd_algorithm_makers = {\n",
    "    \"Polyak+CFM\": lambda : ComposableSubgradientMethod(\n",
    "            sense=-relaxation.sense,\n",
    "            var_lb=var_lb,\n",
    "            var_ub=var_ub,\n",
    "            step_size_fun=PolyakStepSizeRule(-relaxation.sense, target_tracker),\n",
    "            deflection_fun=CFMDeflection(),\n",
    "        ),\n",
    "    \"Volume\": lambda : VolumeAlgorithm(\n",
    "            sense=-relaxation.sense,\n",
    "            var_lb=var_lb,\n",
    "            var_ub=var_ub,\n",
    "            step_size_fun=PolyakStepSizeRule(-relaxation.sense, target_tracker),\n",
    "        ),\n",
    "    \"Bundle_Volume\": lambda: BundleVolumeAlgorithm(\n",
    "            sense=-relaxation.sense,\n",
    "            var_lb=var_lb,\n",
    "            var_ub=var_ub,\n",
    "            step_size_fun=PolyakStepSizeRule(-relaxation.sense, target_tracker),\n",
    "        )\n",
    "}\n",
    "\n",
    "cp = CuttingPlane(sense=-relaxation.sense, var_lb=var_lb, var_ub=var_ub)"
   ]
  },
  {
   "cell_type": "code",
   "execution_count": 7,
   "metadata": {
    "ExecuteTime": {
     "end_time": "2021-02-06T11:08:03.421045Z",
     "start_time": "2021-02-06T11:08:03.416963Z"
    }
   },
   "outputs": [],
   "source": [
    "def run_heuristic(primal_solutions):\n",
    "    mip = 0\n",
    "    commitments = [ps[\"s\"] for ps in primal_solutions]\n",
    "    fixed_model, _ = combinatorial_heuristic(\n",
    "        data, commitments, combination_options=dict(mip=mip, options=[\"ratio\",\"0.05\", \"sec\", \"40\", \"doh\", \"barrier\",\"crossover 0\"])\n",
    "    )\n",
    "    solution = extract_solution(fixed_model)\n",
    "    print(\n",
    "        f\" => Heuristic:\\tTotal cost: {solution['total_production_cost']:15.5g}\\t\"\n",
    "        + f\"Demand mismatch cost:{solution['demand_mismatch_cost']:15.5g}\"\n",
    "    )\n",
    "    return relaxation.information_from_primal_solution(solution)"
   ]
  },
  {
   "cell_type": "code",
   "execution_count": 8,
   "metadata": {
    "ExecuteTime": {
     "end_time": "2021-02-06T11:08:03.427523Z",
     "start_time": "2021-02-06T11:08:03.423854Z"
    }
   },
   "outputs": [
    {
     "name": "stdout",
     "output_type": "stream",
     "text": [
      "0 23\n"
     ]
    }
   ],
   "source": [
    "initial_heuristic =True\n",
    "if initial_heuristic:\n",
    "    ucp_model, solution = rolling_horizon_heuristic(data, 72, 72, options=[\"sec 25 doh\"])\n",
    "    primal_info = relaxation.information_from_primal_solution(solution)\n",
    "    initial_multipliers = relaxation.multipliers_from_primal_solution(solution)\n",
    "    initial_solution = primal_info\n",
    "else:\n",
    "    initial_solution = None\n",
    "    initial_multipliers = fill_multipliers(relaxation.dualized_constraints, 0.0)"
   ]
  },
  {
   "cell_type": "code",
   "execution_count": 9,
   "metadata": {
    "ExecuteTime": {
     "end_time": "2021-02-06T11:08:03.434660Z",
     "start_time": "2021-02-06T11:08:03.430071Z"
    }
   },
   "outputs": [
    {
     "ename": "TypeError",
     "evalue": "_exploit_heuristic_solution() missing 1 required positional argument: 'heuristic_solution'",
     "output_type": "error",
     "traceback": [
      "\u001b[0;31m---------------------------------------------------------------------------\u001b[0m",
      "\u001b[0;31mTypeError\u001b[0m                                 Traceback (most recent call last)",
      "\u001b[0;32m<ipython-input-9-5b1e6626bdcb>\u001b[0m in \u001b[0;36m<module>\u001b[0;34m\u001b[0m\n\u001b[0;32m----> 1\u001b[0;31m combined_algorithm.initialize(relaxation, initial_multipliers, cp, sgd_algorithm_makers[configuration.sgd_name]\n\u001b[0m\u001b[1;32m      2\u001b[0m ,run_heuristic, initial_heuristic_solution=initial_solution)\n",
      "\u001b[0;32m~/experiments/generic/optimization/dual_optimization/combined_algorithm/combined_algorithm.py\u001b[0m in \u001b[0;36minitialize\u001b[0;34m(self, relaxation, initial_multipliers, cutting_plane, sgd_algorithm_maker, heuristic_algorithm, initial_heuristic_solution)\u001b[0m\n\u001b[1;32m     94\u001b[0m \u001b[0;34m\u001b[0m\u001b[0m\n\u001b[1;32m     95\u001b[0m         \u001b[0;32mif\u001b[0m \u001b[0minitial_heuristic_solution\u001b[0m \u001b[0;32mis\u001b[0m \u001b[0;32mnot\u001b[0m \u001b[0;32mNone\u001b[0m\u001b[0;34m:\u001b[0m\u001b[0;34m\u001b[0m\u001b[0;34m\u001b[0m\u001b[0m\n\u001b[0;32m---> 96\u001b[0;31m             \u001b[0mself\u001b[0m\u001b[0;34m.\u001b[0m\u001b[0m_exploit_heuristic_solution\u001b[0m\u001b[0;34m(\u001b[0m\u001b[0minitial_heuristic_solution\u001b[0m\u001b[0;34m)\u001b[0m\u001b[0;34m\u001b[0m\u001b[0;34m\u001b[0m\u001b[0m\n\u001b[0m\u001b[1;32m     97\u001b[0m \u001b[0;34m\u001b[0m\u001b[0m\n\u001b[1;32m     98\u001b[0m     \u001b[0;32mdef\u001b[0m \u001b[0m__call__\u001b[0m\u001b[0;34m(\u001b[0m\u001b[0mself\u001b[0m\u001b[0;34m,\u001b[0m\u001b[0;34m)\u001b[0m \u001b[0;34m->\u001b[0m \u001b[0mbool\u001b[0m\u001b[0;34m:\u001b[0m\u001b[0;34m\u001b[0m\u001b[0;34m\u001b[0m\u001b[0m\n",
      "\u001b[0;31mTypeError\u001b[0m: _exploit_heuristic_solution() missing 1 required positional argument: 'heuristic_solution'"
     ]
    }
   ],
   "source": [
    "combined_algorithm.initialize(relaxation, initial_multipliers, cp, sgd_algorithm_makers[configuration.sgd_name]\n",
    ",run_heuristic, initial_heuristic_solution=initial_solution)"
   ]
  },
  {
   "cell_type": "code",
   "execution_count": null,
   "metadata": {
    "ExecuteTime": {
     "end_time": "2021-02-06T11:08:10.003520Z",
     "start_time": "2021-02-06T11:08:03.437293Z"
    }
   },
   "outputs": [],
   "source": [
    "kpi_collector = KpiCollector()\n",
    "print(pretty_printer.header())\n",
    "stop = False\n",
    "while not stop:    \n",
    "    stop = combined_algorithm()\n",
    "    kpi_collector.collect(combined_algorithm)\n",
    "    print(pretty_printer.row(combined_algorithm))"
   ]
  },
  {
   "cell_type": "code",
   "execution_count": null,
   "metadata": {
    "ExecuteTime": {
     "end_time": "2021-02-06T11:08:10.031545Z",
     "start_time": "2021-02-06T11:08:10.005849Z"
    }
   },
   "outputs": [],
   "source": [
    "tab = kpi_collector.table()\n",
    "tab = extract_kpis(tab)"
   ]
  },
  {
   "cell_type": "code",
   "execution_count": null,
   "metadata": {
    "ExecuteTime": {
     "end_time": "2021-02-06T11:08:10.180751Z",
     "start_time": "2021-02-06T11:08:10.033887Z"
    }
   },
   "outputs": [],
   "source": [
    "tab"
   ]
  },
  {
   "cell_type": "code",
   "execution_count": null,
   "metadata": {
    "ExecuteTime": {
     "end_time": "2021-02-06T11:08:10.513538Z",
     "start_time": "2021-02-06T11:08:10.182284Z"
    }
   },
   "outputs": [],
   "source": [
    "temp = pd.melt(\n",
    "    tab[\n",
    "        [\n",
    "            \"iteration\",\n",
    "            \"dual_algorithm\",\n",
    "            \"best_dual_bound\",\n",
    "            \"best_primal_bound\",\n",
    "            \"best_cp_primal_bound\",\n",
    "#            \"primal_bound\",\n",
    "#            \"dual_bound\",\n",
    "        ]\n",
    "    ],\n",
    "    id_vars=[\"iteration\", \"dual_algorithm\"],\n",
    ")\n",
    "\n",
    "p=ggplot(temp, aes(\"iteration\", \"value\")) + geom_line(aes(color=\"variable\")) + scale_color_discrete(breaks=[\"best_dual_bound\",\n",
    "            \"best_primal_bound\",\n",
    "            \"best_cp_primal_bound\",\n",
    "          #  \"primal_bound\",\n",
    "          #  \"dual_bound\",\n",
    "        ], labels=[\"Best Dual\", \"Best Primal\", \"Best CP Primal\",]) #\"Primal\", \"Dual\"\n",
    "\n",
    "\n",
    "print(p)"
   ]
  },
  {
   "cell_type": "code",
   "execution_count": null,
   "metadata": {
    "ExecuteTime": {
     "end_time": "2021-02-06T11:08:10.666674Z",
     "start_time": "2021-02-06T11:08:10.515591Z"
    }
   },
   "outputs": [],
   "source": [
    "iteration_info = pd.DataFrame.from_records(algo_kpis)\n",
    "iteration_info"
   ]
  },
  {
   "cell_type": "code",
   "execution_count": null,
   "metadata": {
    "ExecuteTime": {
     "end_time": "2021-02-06T11:08:10.669633Z",
     "start_time": "2021-02-06T11:08:01.980Z"
    }
   },
   "outputs": [],
   "source": [
    "temp = pd.melt(\n",
    "    iteration_info[\n",
    "        [\"iteration\", \"dual_bound\", \"best_dual_bound\", \"cp_best_primal_bound\"]\n",
    "    ],\n",
    "    id_vars=[\"iteration\"],\n",
    ")\n",
    "\n",
    "best_dual = iteration_info[\"best_dual_bound\"].max()\n",
    "best_primal = iteration_info[\"cp_best_primal_bound\"].min()\n",
    "\n",
    "delta = max(abs(best_dual), abs(best_primal)) * 0.25\n",
    "ggplot(\n",
    "    temp, aes(x=\"iteration\", y=\"value\", color=\"variable\", shape=\"variable\")\n",
    ") + geom_line() + geom_point() + coord_cartesian(ylim=(best_dual - delta, best_primal + delta))"
   ]
  },
  {
   "cell_type": "code",
   "execution_count": null,
   "metadata": {
    "ExecuteTime": {
     "end_time": "2021-02-06T11:08:10.671331Z",
     "start_time": "2021-02-06T11:08:01.985Z"
    }
   },
   "outputs": [],
   "source": [
    "from sklearn.manifold import TSNE, MDS \n",
    "from sklearn.preprocessing import StandardScaler, FunctionTransformer\n",
    "from sklearn.decomposition import PCA, SparsePCA, FastICA, NMF"
   ]
  },
  {
   "cell_type": "code",
   "execution_count": null,
   "metadata": {
    "ExecuteTime": {
     "end_time": "2021-02-06T11:08:10.673043Z",
     "start_time": "2021-02-06T11:08:01.990Z"
    }
   },
   "outputs": [],
   "source": [
    "vect_matrix = np.vstack(iteration_info[\"multipliers_vector\"][4:].to_list())\n",
    "vect_matrix.shape\n",
    "\n",
    "X=PCA(n_components=3).fit_transform(StandardScaler().fit_transform(vect_matrix))\n",
    "df = pd.DataFrame(X, columns=[f\"x{i}\" for i in range(X.shape[1])]).reset_index().rename(columns={\"index\":\"iteration\"})\n",
    "df[\"iteration\"]+=4\n",
    "df = pd.merge(df, iteration_info[[\"iteration\", \"dual_bound\"]])\n",
    "\n",
    "temp = pd.melt(df, id_vars=[\"iteration\", \"dual_bound\", \"x0\"])\n",
    "\n",
    "delta_y = (temp[\"value\"].max()- temp[\"value\"].min())/40\n",
    "delta_x = (temp[\"x0\"].max()- temp[\"x0\"].min())/40\n",
    "temp[\"label_pos_y\"]=temp[\"value\"]+delta_y\n",
    "temp[\"label_pos_x\"]=temp[\"x0\"]+delta_x\n",
    "ggplot(temp, aes(\"x0\", \"value\", color=\"dual_bound\")) \\\n",
    "+ geom_point(size=2) \\\n",
    "+ geom_text(aes(label=\"iteration\",x=\"label_pos_x\", y=\"label_pos_y\"), position=position_jitter(width=0.4), color=\"black\") + facet_wrap(\"~variable\")"
   ]
  },
  {
   "cell_type": "code",
   "execution_count": null,
   "metadata": {
    "ExecuteTime": {
     "end_time": "2021-02-06T11:08:10.674819Z",
     "start_time": "2021-02-06T11:08:01.995Z"
    }
   },
   "outputs": [],
   "source": [
    "solution = dual_bounds_list[-1].primal_solution"
   ]
  },
  {
   "cell_type": "code",
   "execution_count": null,
   "metadata": {
    "ExecuteTime": {
     "end_time": "2021-02-06T11:08:10.676731Z",
     "start_time": "2021-02-06T11:08:02.000Z"
    }
   },
   "outputs": [],
   "source": [
    "solution[\"s\"].groupby(level=\"plant\").sum()"
   ]
  },
  {
   "cell_type": "code",
   "execution_count": null,
   "metadata": {
    "ExecuteTime": {
     "end_time": "2021-02-06T11:08:10.678526Z",
     "start_time": "2021-02-06T11:08:02.004Z"
    }
   },
   "outputs": [],
   "source": [
    "solution[\"p\"].groupby(level=\"period\").sum()"
   ]
  },
  {
   "cell_type": "code",
   "execution_count": null,
   "metadata": {
    "ExecuteTime": {
     "end_time": "2021-02-06T11:08:10.680355Z",
     "start_time": "2021-02-06T11:08:02.009Z"
    },
    "scrolled": true
   },
   "outputs": [],
   "source": [
    "tot_production = solution[\"p\"].groupby(level=[\"period\"]).sum().reset_index()\n",
    "\n",
    "tot_production = pd.merge(tot_production, data.loads[[\"period\", \"value\"]], on=\"period\")\n",
    "\n",
    "tot_production = tot_production.rename(columns={\"value\": \"load\"})\n",
    "tot_production = pd.melt(tot_production, id_vars=[\"period\"])\n",
    "ggplot(tot_production, aes(\"period\", \"value\", color=\"variable\", linetype=\"variable\")) \\\n",
    "    + geom_step(size=2) \\\n",
    "    + scale_color_discrete(name=\"Series\", breaks=[\"load\", \"p\"], labels=[\"Load\", \"Production\"]) \\\n",
    "    + scale_linetype_discrete(name=\"Series\", breaks=[\"load\", \"p\"], labels=[\"Load\", \"Production\"]) \\\n",
    "    + labs(y=\"Value [MW]\") \\\n",
    "    + ggtitle(\"Production vs Load\")"
   ]
  },
  {
   "cell_type": "code",
   "execution_count": null,
   "metadata": {
    "ExecuteTime": {
     "end_time": "2021-02-06T11:08:10.682237Z",
     "start_time": "2021-02-06T11:08:02.013Z"
    }
   },
   "outputs": [],
   "source": [
    "demand_gap = pd.DataFrame(EIE=solution[\"EIE\"], ENP=solution[\"ENP\"])\n",
    "demand_gap = pd.melt(demand_gap, id_vars=\"period\", var_name=\"Series\")\n",
    "\n",
    "ggplot(demand_gap, aes(x=\"period\", y=\"value\", color=\"Series\", linetype=\"Series\")) \\\n",
    "    + geom_step(size=2) \\\n",
    "    + labs(x=\"period\", y=\"Value [MW]\") \\\n",
    "    + ggtitle(\"Demand mismatch\")"
   ]
  },
  {
   "cell_type": "code",
   "execution_count": null,
   "metadata": {
    "ExecuteTime": {
     "end_time": "2021-02-06T11:08:10.684218Z",
     "start_time": "2021-02-06T11:08:02.018Z"
    }
   },
   "outputs": [],
   "source": [
    "ggplot(solution[\"p\"], aes(\"period\", \"production\")) \\\n",
    "    + geom_step() \\\n",
    "    + facet_wrap(\"~plant\", labeller=lambda s: f\"plant #{s}\") \\\n",
    "    + labs(x=\"hour\", y=\"production [MW]\") \\\n",
    "    + ggtitle(\"Hourly production per plant\")"
   ]
  },
  {
   "cell_type": "code",
   "execution_count": null,
   "metadata": {
    "ExecuteTime": {
     "end_time": "2021-02-06T11:08:10.686493Z",
     "start_time": "2021-02-06T11:08:02.023Z"
    }
   },
   "outputs": [],
   "source": [
    "avg_coef = data.thermal_plants.copy()\n",
    "avg_coef[\"avg_coef\"] = avg_coef.l_cost + (avg_coef.c_cost / avg_coef.max_power)\n",
    "\n",
    "utilization = solution[\"p\"].groupby(\"plant\").agg({\"production\": \"sum\"}).reset_index(0)\n",
    "\n",
    "utilization = utilization.merge(data.thermal_plants[[\"plant\", \"max_power\"]])\n",
    "\n",
    "utilization[\"utilization\"] = utilization.production / (utilization.max_power * len(data.time))\n",
    "\n",
    "temp = avg_coef[[\"plant\", \"avg_coef\"]]\\\n",
    "    .merge(utilization, sort=True)\\\n",
    "    [[\"plant\", \"utilization\", \"avg_coef\"]]\n",
    "\n",
    "ggplot(temp, aes(\"avg_coef\", \"utilization\")) \\\n",
    "    + geom_point(size=2) \\\n",
    "    + geom_text(aes(y=\"utilization+0.04\", label=\"plant\")) \\\n",
    "    + scale_y_continuous(labels=percent_format()) \\\n",
    "    + labs(x=\"Avg. Hourly cost [€/MW]\", y=\"Utilization %\", label=\"Plant id\") \\\n",
    "    + ggtitle(\"Utilization vs Hourly cost\")"
   ]
  },
  {
   "cell_type": "raw",
   "metadata": {},
   "source": []
  }
 ],
 "metadata": {
  "kernelspec": {
   "display_name": "experiments3.8",
   "language": "python",
   "name": "experiments3.8"
  },
  "language_info": {
   "codemirror_mode": {
    "name": "ipython",
    "version": 3
   },
   "file_extension": ".py",
   "mimetype": "text/x-python",
   "name": "python",
   "nbconvert_exporter": "python",
   "pygments_lexer": "ipython3",
   "version": "3.8.0"
  }
 },
 "nbformat": 4,
 "nbformat_minor": 4
}

{
 "cells": [
  {
   "cell_type": "code",
   "execution_count": 1,
   "metadata": {
    "ExecuteTime": {
     "end_time": "2021-01-18T14:33:02.366860Z",
     "start_time": "2021-01-18T14:33:02.353132Z"
    }
   },
   "outputs": [
    {
     "data": {
      "text/html": [
       "<style>.notebook-container { width:100% !important;} .container { width:100% !important;} </style>"
      ],
      "text/plain": [
       "<IPython.core.display.HTML object>"
      ]
     },
     "metadata": {},
     "output_type": "display_data"
    }
   ],
   "source": [
    "from IPython.core.display import display, HTML\n",
    "display(HTML(\n",
    "    '<style>'\n",
    "        '.notebook-container { width:100% !important;} '\n",
    "        '.container { width:100% !important;} '\n",
    "    '</style>'\n",
    "))\n"
   ]
  },
  {
   "cell_type": "code",
   "execution_count": 2,
   "metadata": {
    "ExecuteTime": {
     "end_time": "2021-01-18T14:33:02.375070Z",
     "start_time": "2021-01-18T14:33:02.368726Z"
    }
   },
   "outputs": [
    {
     "data": {
      "application/javascript": [
       "IPython.OutputArea.prototype._should_scroll = function(lines) {\n",
       "    return false;\n",
       "}\n"
      ],
      "text/plain": [
       "<IPython.core.display.Javascript object>"
      ]
     },
     "metadata": {},
     "output_type": "display_data"
    }
   ],
   "source": [
    "%%javascript\n",
    "IPython.OutputArea.prototype._should_scroll = function(lines) {\n",
    "    return false;\n",
    "}"
   ]
  },
  {
   "cell_type": "code",
   "execution_count": 3,
   "metadata": {
    "ExecuteTime": {
     "end_time": "2021-01-18T14:33:03.587363Z",
     "start_time": "2021-01-18T14:33:02.378581Z"
    }
   },
   "outputs": [],
   "source": [
    "from wurlitzer import sys_pipes\n",
    "from plotnine import *\n",
    "from mizani.formatters import percent_format\n",
    "import itertools\n",
    "import pandas as pd\n",
    "import numpy as np\n",
    "\n",
    "import UCP.input.parser as ucp_parser\n",
    "import generic.optimization.solution_extraction as ucp_out\n",
    "from UCP.model.ucp import create_model, extract_solution_kpi\n",
    "from UCP.relaxations.lagrangian.production_state.relaxation import (\n",
    "    ProductionStateRelaxation,\n",
    ")\n",
    "from UCP.relaxations.lagrangian.demand_satisfaction import DemandSatRelaxation\n",
    "from UCP.relaxations.lagrangian.heuristic import combinatorial_heuristic\n",
    "\n",
    "from generic.series_dict import (\n",
    "    series_dict_into_array,\n",
    "    series_dict_to_array,\n",
    "    array_into_series_dict,\n",
    "    allocate_array_for,\n",
    "    full_series_dict\n",
    ")\n",
    "from generic.optimization.model import OptimizationSense\n",
    "from generic.optimization.dual_optimization.lagrangian_decomposition import (\n",
    "    multipliers_range,\n",
    ")\n",
    "\n",
    "from generic.optimization.dual_optimization.algorithms.cutting_plane import (\n",
    "    CuttingPlane, ColumnGeneration\n",
    ")\n",
    "\n",
    "from generic.optimization.dual_optimization.algorithms.subgradient import (\n",
    "    ComposableSubgradientMethod,\n",
    "    PolyakStepSizeRule,\n",
    "    CFMDeflection,\n",
    "    FixedDeflection,\n",
    "    CFMDeflection,\n",
    "    FixedTargetTracker,\n",
    ")\n",
    "\n",
    "from generic.optimization.dual_optimization.algorithms.subgradient.volume import (\n",
    "    VolumeAlgorithm,\n",
    "    BundleVolumeAlgorithm,\n",
    ")\n",
    "\n",
    "import UCP.output.check_solution as ck\n",
    "from generic.optimization.solution_extraction import extract_solution\n",
    "from UCP.heuristics.relax_and_opt import relax_and_opt\n",
    "from UCP.output.charts import total_production, enp_vs_eie"
   ]
  },
  {
   "cell_type": "code",
   "execution_count": 4,
   "metadata": {
    "ExecuteTime": {
     "end_time": "2021-01-18T14:33:03.594244Z",
     "start_time": "2021-01-18T14:33:03.590525Z"
    }
   },
   "outputs": [],
   "source": [
    "theme_set(theme_bw() + theme(figure_size=(10, 10 / 1.61)))"
   ]
  },
  {
   "cell_type": "code",
   "execution_count": 5,
   "metadata": {
    "ExecuteTime": {
     "end_time": "2021-01-18T14:33:03.646165Z",
     "start_time": "2021-01-18T14:33:03.595971Z"
    }
   },
   "outputs": [],
   "source": [
    "data = ucp_parser.read_instance(\"./UCP/data/instance_5g.ucp\")\n",
    "model = create_model(data)"
   ]
  },
  {
   "cell_type": "code",
   "execution_count": 6,
   "metadata": {
    "ExecuteTime": {
     "end_time": "2021-01-18T14:33:03.698051Z",
     "start_time": "2021-01-18T14:33:03.647666Z"
    }
   },
   "outputs": [],
   "source": [
    "relaxation = DemandSatRelaxation(data)\n",
    "\n",
    "var_lb, var_ub = tuple(\n",
    "    series_dict_to_array(**m)\n",
    "    for m in multipliers_range(relaxation.dualized_constraints)\n",
    ")\n",
    "\n",
    "lower_cost_estimate = data.loads[\"value\"].sum() * data.thermal_plants[\"l_cost\"].min()\n",
    "upper_cost_estimate = data.loads[\"value\"].sum() * data.c_ENP\n"
   ]
  },
  {
   "cell_type": "code",
   "execution_count": 8,
   "metadata": {
    "ExecuteTime": {
     "end_time": "2021-01-18T14:43:59.206974Z",
     "start_time": "2021-01-18T14:43:35.474120Z"
    },
    "scrolled": true
   },
   "outputs": [
    {
     "name": "stderr",
     "output_type": "stream",
     "text": [
      "<ipython-input-8-aa8fabfb7729>:164: RuntimeWarning: invalid value encountered in double_scalars\n"
     ]
    },
    {
     "name": "stdout",
     "output_type": "stream",
     "text": [
      "It:0\tAlgorithm:bundle_volume\tbest dual bound:      0,\tbest primal:    nan\tgap:   nan%\tCP gap:  nan%\n",
      "  => mult. norm:      0,\t subgrd. norm:   4210,\tmult. change:   20\n",
      "It:1\tAlgorithm:bundle_volume\tbest dual bound: 8.417e+04,\tbest primal:    nan\tgap:   nan%\tCP gap:  nan%\n",
      "  => mult. norm:  19.99,\t subgrd. norm:   4210,\tmult. change:    2\n",
      "It:2\tAlgorithm:bundle_volume\tbest dual bound: 9.258e+04,\tbest primal:    nan\tgap:   nan%\tCP gap:  nan%\n",
      "  => mult. norm:  21.99,\t subgrd. norm:   4210,\tmult. change:  2.2\n",
      "It:3\tAlgorithm:bundle_volume\tbest dual bound: 1.011e+05,\tbest primal:    nan\tgap:   nan%\tCP gap:  nan%\n",
      "  => mult. norm:  24.19,\t subgrd. norm:   3836,\tmult. change:  2.4\n",
      "It:4\tAlgorithm:bundle_volume\tbest dual bound: 1.089e+05,\tbest primal:    nan\tgap:   nan%\tCP gap:  nan%\n",
      "  => mult. norm:  26.59,\t subgrd. norm:   2943,\tmult. change:  2.8\n",
      "[]\n",
      " => Heuristic:\tTotal cost: 3.26e+06\tDemand mismatch cost:3.21e+06\n",
      "It:5\tAlgorithm:bundle_volume\tbest dual bound: 1.169e+05,\tbest primal: 3.256e+06\tgap: 96.41%\tCP gap:  nan%\n",
      "  => mult. norm:  29.43,\t subgrd. norm:   2859,\tmult. change:    4\n",
      "It:6\tAlgorithm:bundle_volume\tbest dual bound: 1.276e+05,\tbest primal: 3.256e+06\tgap: 96.08%\tCP gap:  nan%\n",
      "  => mult. norm:   33.4,\t subgrd. norm:   2516,\tmult. change:  4.5\n",
      "It:7\tAlgorithm:bundle_volume\tbest dual bound: 1.355e+05,\tbest primal: 3.256e+06\tgap: 95.84%\tCP gap:  nan%\n",
      "  => mult. norm:  37.81,\t subgrd. norm:   1164,\tmult. change:  5.4\n",
      "It:8\tAlgorithm:bundle_volume\tbest dual bound: 1.356e+05,\tbest primal: 3.256e+06\tgap: 95.84%\tCP gap:  nan%\n",
      "  => mult. norm:  43.16,\t subgrd. norm:   1236,\tmult. change:   13\n",
      "It:9\tAlgorithm:bundle_volume\tbest dual bound: 1.356e+05,\tbest primal: 3.256e+06\tgap: 95.84%\tCP gap:  nan%\n",
      "  => mult. norm:  55.22,\t subgrd. norm:   3143,\tmult. change:   35\n",
      "[]\n",
      " => Heuristic:\tTotal cost: 1.46e+05\tDemand mismatch cost:     0\n",
      "It:10\tAlgorithm:CP\tbest dual bound: 1.356e+05,\tbest primal: 1.455e+05\tgap:  6.82%\tCP gap:81.47%\n",
      "  => mult. norm:  65.27,\t subgrd. norm:   3468,\tmult. change:3.6e+03\n",
      "It:11\tAlgorithm:CP\tbest dual bound: 1.356e+05,\tbest primal: 1.455e+05\tgap:  6.82%\tCP gap:75.49%\n",
      "  => mult. norm:   3604,\t subgrd. norm:   3059,\tmult. change:4.9e+03\n",
      "It:12\tAlgorithm:CP\tbest dual bound: 1.356e+05,\tbest primal: 1.455e+05\tgap:  6.82%\tCP gap:70.66%\n",
      "  => mult. norm:   3461,\t subgrd. norm:   2985,\tmult. change:4.3e+03\n",
      "It:13\tAlgorithm:CP\tbest dual bound: 1.356e+05,\tbest primal: 1.455e+05\tgap:  6.82%\tCP gap:67.93%\n",
      "  => mult. norm:   3370,\t subgrd. norm:   2695,\tmult. change:4.4e+03\n",
      "It:14\tAlgorithm:CP\tbest dual bound: 1.356e+05,\tbest primal: 1.455e+05\tgap:  6.82%\tCP gap:59.76%\n",
      "  => mult. norm:   3477,\t subgrd. norm:   3009,\tmult. change:4.2e+03\n",
      "[]\n",
      " => Heuristic:\tTotal cost: 2.67e+05\tDemand mismatch cost:1.27e+05\n",
      "It:15\tAlgorithm:CP\tbest dual bound: 1.356e+05,\tbest primal: 1.455e+05\tgap:  6.82%\tCP gap:54.51%\n",
      "  => mult. norm:   3396,\t subgrd. norm:   2797,\tmult. change:4.5e+03\n",
      "It:16\tAlgorithm:CP\tbest dual bound: 1.356e+05,\tbest primal: 1.455e+05\tgap:  6.82%\tCP gap:50.57%\n",
      "  => mult. norm:   3217,\t subgrd. norm:   3130,\tmult. change:3.9e+03\n",
      "It:17\tAlgorithm:CP\tbest dual bound: 1.356e+05,\tbest primal: 1.455e+05\tgap:  6.82%\tCP gap:44.23%\n",
      "  => mult. norm:   3221,\t subgrd. norm:   2835,\tmult. change:3.9e+03\n",
      "It:18\tAlgorithm:CP\tbest dual bound: 1.356e+05,\tbest primal: 1.455e+05\tgap:  6.82%\tCP gap:42.35%\n",
      "  => mult. norm:   3075,\t subgrd. norm:   2804,\tmult. change:3.9e+03\n",
      "It:19\tAlgorithm:CP\tbest dual bound: 1.356e+05,\tbest primal: 1.455e+05\tgap:  6.82%\tCP gap:40.03%\n",
      "  => mult. norm:   3029,\t subgrd. norm:   3046,\tmult. change:4e+03\n",
      "[]\n",
      " => Heuristic:\tTotal cost: 1.72e+05\tDemand mismatch cost:2.75e+04\n",
      "It:20\tAlgorithm:bundle_volume\tbest dual bound: 1.356e+05,\tbest primal: 1.455e+05\tgap:  6.82%\tCP gap:40.03%\n",
      "  => mult. norm:   3162,\t subgrd. norm:   2757,\tmult. change:2.6e+03\n",
      "It:21\tAlgorithm:bundle_volume\tbest dual bound: 1.356e+05,\tbest primal: 1.455e+05\tgap:  6.82%\tCP gap:40.03%\n",
      "  => mult. norm:   1627,\t subgrd. norm:   2708,\tmult. change:5.8e+02\n",
      "It:22\tAlgorithm:bundle_volume\tbest dual bound: 1.356e+05,\tbest primal: 1.455e+05\tgap:  6.82%\tCP gap:40.03%\n",
      "  => mult. norm:   1609,\t subgrd. norm:   2853,\tmult. change:5.4e+02\n",
      "It:23\tAlgorithm:bundle_volume\tbest dual bound: 1.356e+05,\tbest primal: 1.455e+05\tgap:  6.82%\tCP gap:40.03%\n",
      "  => mult. norm:   1377,\t subgrd. norm:   2964,\tmult. change:4.2e+02\n",
      "It:24\tAlgorithm:bundle_volume\tbest dual bound: 1.356e+05,\tbest primal: 1.455e+05\tgap:  6.82%\tCP gap:40.03%\n",
      "  => mult. norm:   1321,\t subgrd. norm:   2654,\tmult. change:4.4e+02\n",
      "[]\n",
      " => Heuristic:\tTotal cost: 1.84e+05\tDemand mismatch cost:4.06e+04\n",
      "It:25\tAlgorithm:bundle_volume\tbest dual bound: 1.356e+05,\tbest primal: 1.455e+05\tgap:  6.82%\tCP gap:40.03%\n",
      "  => mult. norm:   1290,\t subgrd. norm:   2755,\tmult. change:3.6e+02\n",
      "It:26\tAlgorithm:bundle_volume\tbest dual bound: 1.356e+05,\tbest primal: 1.455e+05\tgap:  6.82%\tCP gap:40.03%\n",
      "  => mult. norm:   1080,\t subgrd. norm:   2801,\tmult. change:2e+02\n",
      "It:27\tAlgorithm:bundle_volume\tbest dual bound: 1.356e+05,\tbest primal: 1.455e+05\tgap:  6.82%\tCP gap:40.03%\n",
      "  => mult. norm:   1027,\t subgrd. norm:   2832,\tmult. change:4.3e+02\n",
      "It:28\tAlgorithm:bundle_volume\tbest dual bound: 1.356e+05,\tbest primal: 1.455e+05\tgap:  6.82%\tCP gap:40.03%\n",
      "  => mult. norm:  865.9,\t subgrd. norm:   2792,\tmult. change:3.5e+02\n",
      "It:29\tAlgorithm:bundle_volume\tbest dual bound: 1.356e+05,\tbest primal: 1.455e+05\tgap:  6.82%\tCP gap:40.03%\n",
      "  => mult. norm:  786.5,\t subgrd. norm:   2945,\tmult. change:3.4e+02\n",
      "[]\n",
      " => Heuristic:\tTotal cost: 1.84e+05\tDemand mismatch cost:4.06e+04\n",
      "It:30\tAlgorithm:CP\tbest dual bound: 1.356e+05,\tbest primal: 1.455e+05\tgap:  6.82%\tCP gap:29.97%\n",
      "  => mult. norm:  727.4,\t subgrd. norm:   3169,\tmult. change:2.4e+03\n",
      "It:31\tAlgorithm:CP\tbest dual bound: 1.356e+05,\tbest primal: 1.455e+05\tgap:  6.82%\tCP gap:22.60%\n",
      "  => mult. norm:   2311,\t subgrd. norm:   3250,\tmult. change:3.2e+03\n",
      "It:32\tAlgorithm:CP\tbest dual bound: 1.356e+05,\tbest primal: 1.455e+05\tgap:  6.82%\tCP gap: 9.97%\n",
      "  => mult. norm:   2183,\t subgrd. norm:   3241,\tmult. change:2.2e+03\n",
      "It:33\tAlgorithm:CP\tbest dual bound: 1.356e+05,\tbest primal: 1.455e+05\tgap:  6.82%\tCP gap: 6.63%\n",
      "  => mult. norm:   1568,\t subgrd. norm:   3334,\tmult. change:1.5e+03\n",
      "It:34\tAlgorithm:CP\tbest dual bound: 1.356e+05,\tbest primal: 1.455e+05\tgap:  6.82%\tCP gap: 6.04%\n",
      "  => mult. norm:  84.65,\t subgrd. norm:   3101,\tmult. change:   98\n",
      "[]\n",
      " => Heuristic:\tTotal cost: 1.84e+05\tDemand mismatch cost:4.06e+04\n",
      "It:35\tAlgorithm:CP\tbest dual bound: 1.356e+05,\tbest primal: 1.455e+05\tgap:  6.82%\tCP gap: 5.88%\n",
      "  => mult. norm:  105.7,\t subgrd. norm:   2571,\tmult. change:1.2e+02\n",
      "It:36\tAlgorithm:CP\tbest dual bound: 1.356e+05,\tbest primal: 1.455e+05\tgap:  6.82%\tCP gap: 5.43%\n",
      "  => mult. norm:  100.9,\t subgrd. norm:   3197,\tmult. change:1e+02\n",
      "It:37\tAlgorithm:CP\tbest dual bound: 1.356e+05,\tbest primal: 1.455e+05\tgap:  6.82%\tCP gap: 4.90%\n",
      "  => mult. norm:  82.95,\t subgrd. norm:   2947,\tmult. change:1.3e+02\n",
      "It:38\tAlgorithm:CP\tbest dual bound: 1.356e+05,\tbest primal: 1.455e+05\tgap:  6.82%\tCP gap: 4.87%\n",
      "  => mult. norm:  119.5,\t subgrd. norm:   3003,\tmult. change:1e+02\n",
      "It:39\tAlgorithm:CP\tbest dual bound: 1.356e+05,\tbest primal: 1.455e+05\tgap:  6.82%\tCP gap: 4.51%\n",
      "  => mult. norm:  70.71,\t subgrd. norm:   3213,\tmult. change:1e+02\n",
      "[]\n",
      " => Heuristic:\tTotal cost: 1.84e+05\tDemand mismatch cost:4.06e+04\n",
      "It:40\tAlgorithm:bundle_volume\tbest dual bound: 1.356e+05,\tbest primal: 1.455e+05\tgap:  6.82%\tCP gap: 4.51%\n",
      "  => mult. norm:  95.93,\t subgrd. norm:   3073,\tmult. change:   67\n",
      "It:41\tAlgorithm:bundle_volume\tbest dual bound: 1.356e+05,\tbest primal: 1.455e+05\tgap:  6.82%\tCP gap: 4.51%\n",
      "  => mult. norm:  58.91,\t subgrd. norm:   2383,\tmult. change:   17\n",
      "It:42\tAlgorithm:bundle_volume\tbest dual bound: 1.356e+05,\tbest primal: 1.455e+05\tgap:  6.82%\tCP gap: 4.51%\n",
      "  => mult. norm:  58.49,\t subgrd. norm:   2724,\tmult. change:   56\n",
      "It:43\tAlgorithm:bundle_volume\tbest dual bound: 1.356e+05,\tbest primal: 1.455e+05\tgap:  6.82%\tCP gap: 4.51%\n",
      "  => mult. norm:  64.26,\t subgrd. norm:   2612,\tmult. change:   16\n",
      "It:44\tAlgorithm:bundle_volume\tbest dual bound: 1.356e+05,\tbest primal: 1.455e+05\tgap:  6.82%\tCP gap: 4.51%\n",
      "  => mult. norm:  73.94,\t subgrd. norm:   2824,\tmult. change:   29\n",
      "[]\n",
      " => Heuristic:\tTotal cost: 1.84e+05\tDemand mismatch cost:4.06e+04\n",
      "It:45\tAlgorithm:bundle_volume\tbest dual bound: 1.356e+05,\tbest primal: 1.455e+05\tgap:  6.82%\tCP gap: 4.51%\n",
      "  => mult. norm:  70.81,\t subgrd. norm:   3362,\tmult. change:   23\n"
     ]
    },
    {
     "name": "stdout",
     "output_type": "stream",
     "text": [
      "It:46\tAlgorithm:bundle_volume\tbest dual bound: 1.356e+05,\tbest primal: 1.455e+05\tgap:  6.82%\tCP gap: 4.51%\n",
      "  => mult. norm:  59.41,\t subgrd. norm:   2789,\tmult. change:    0\n",
      "It:47\tAlgorithm:bundle_volume\tbest dual bound: 1.356e+05,\tbest primal: 1.455e+05\tgap:  6.82%\tCP gap: 4.51%\n",
      "  => mult. norm:  59.41,\t subgrd. norm:   2789,\tmult. change:   24\n",
      "It:48\tAlgorithm:bundle_volume\tbest dual bound: 1.356e+05,\tbest primal: 1.455e+05\tgap:  6.82%\tCP gap: 4.51%\n",
      "  => mult. norm:  46.48,\t subgrd. norm:   2302,\tmult. change:  9.4\n",
      "It:49\tAlgorithm:bundle_volume\tbest dual bound: 1.356e+05,\tbest primal: 1.455e+05\tgap:  6.82%\tCP gap: 4.51%\n",
      "  => mult. norm:  43.97,\t subgrd. norm:   2597,\tmult. change:   28\n",
      "[]\n",
      " => Heuristic:\tTotal cost: 2.82e+05\tDemand mismatch cost:1.43e+05\n",
      "It:50\tAlgorithm:CP\tbest dual bound: 1.356e+05,\tbest primal: 1.455e+05\tgap:  6.82%\tCP gap: 3.55%\n",
      "  => mult. norm:  37.34,\t subgrd. norm:   2631,\tmult. change:   89\n",
      "It:51\tAlgorithm:CP\tbest dual bound: 1.356e+05,\tbest primal: 1.455e+05\tgap:  6.82%\tCP gap: 3.13%\n",
      "  => mult. norm:  91.97,\t subgrd. norm:   2574,\tmult. change:   80\n",
      "It:52\tAlgorithm:CP\tbest dual bound: 1.356e+05,\tbest primal: 1.455e+05\tgap:  6.82%\tCP gap: 2.59%\n",
      "  => mult. norm:  79.47,\t subgrd. norm:   2790,\tmult. change:   67\n",
      "It:53\tAlgorithm:CP\tbest dual bound: 1.356e+05,\tbest primal: 1.455e+05\tgap:  6.82%\tCP gap: 2.05%\n",
      "  => mult. norm:  66.67,\t subgrd. norm:   2676,\tmult. change:   52\n",
      "It:54\tAlgorithm:CP\tbest dual bound: 1.356e+05,\tbest primal: 1.455e+05\tgap:  6.82%\tCP gap: 1.75%\n",
      "  => mult. norm:  63.52,\t subgrd. norm:   2760,\tmult. change:   58\n",
      "[]\n",
      " => Heuristic:\tTotal cost: 1.95e+05\tDemand mismatch cost:5.34e+04\n",
      "It:55\tAlgorithm:CP\tbest dual bound: 1.356e+05,\tbest primal: 1.455e+05\tgap:  6.82%\tCP gap: 1.56%\n",
      "  => mult. norm:  67.21,\t subgrd. norm:   2845,\tmult. change:   54\n",
      "It:56\tAlgorithm:CP\tbest dual bound: 1.356e+05,\tbest primal: 1.455e+05\tgap:  6.82%\tCP gap: 1.23%\n",
      "  => mult. norm:  59.14,\t subgrd. norm:   2309,\tmult. change:   48\n",
      "It:57\tAlgorithm:CP\tbest dual bound: 1.356e+05,\tbest primal: 1.455e+05\tgap:  6.82%\tCP gap: 0.99%\n",
      "  => mult. norm:  62.89,\t subgrd. norm:   2730,\tmult. change:   41\n",
      "It:58\tAlgorithm:CP\tbest dual bound: 1.356e+05,\tbest primal: 1.455e+05\tgap:  6.82%\tCP gap: 0.75%\n",
      "  => mult. norm:  60.95,\t subgrd. norm:   2784,\tmult. change:   41\n",
      "It:59\tAlgorithm:CP\tbest dual bound: 1.356e+05,\tbest primal: 1.455e+05\tgap:  6.82%\tCP gap: 0.60%\n",
      "  => mult. norm:  59.12,\t subgrd. norm:   2637,\tmult. change:   47\n",
      "[]\n",
      " => Heuristic:\tTotal cost: 1.95e+05\tDemand mismatch cost:5.34e+04\n",
      "It:60\tAlgorithm:bundle_volume\tbest dual bound: 1.356e+05,\tbest primal: 1.455e+05\tgap:  6.82%\tCP gap: 0.60%\n",
      "  => mult. norm:  60.19,\t subgrd. norm:   2812,\tmult. change:   33\n"
     ]
    }
   ],
   "source": [
    "upper_bound = np.nan\n",
    "current_target = np.nan\n",
    "\n",
    "primal_bound = upper_cost_estimate\n",
    "primal_solution = None\n",
    "best_dual_bound = relaxation.sense * np.infty\n",
    "cp_primal_bound = relaxation.sense * -np.infty\n",
    "\n",
    "\n",
    "def run_heuristic(\n",
    "    primal_solutions,\n",
    "    data,\n",
    "):\n",
    "    commitments = [ps[\"s\"] for ps in primal_solutions]\n",
    "    fixed_model, _ = combinatorial_heuristic(\n",
    "        data, commitments, combination_options={\"mip\": 0}\n",
    "    )\n",
    "    solution = extract_solution(fixed_model)\n",
    "    solution_kpis = extract_solution_kpi(fixed_model, data, solution)\n",
    "    print(\n",
    "        f\" => Heuristic:\\tTotal cost: {solution_kpis['objective']:6.3g}\\t\"\n",
    "        + f\"Demand mismatch cost:{solution_kpis['demand_mismatch_costs'].sum():6.3g}\"\n",
    "    )\n",
    "\n",
    "    intercept = fixed_model.objs[\"total_production_cost\"].value()\n",
    "    subgradient = relaxation.subgradient(solution)\n",
    "\n",
    "    return intercept, subgradient, solution, solution_kpis[\"objective\"]\n",
    "\n",
    "\n",
    "fixed_tracker = FixedTargetTracker(sense=-relaxation.sense, overestimation_factor=0.2)\n",
    "\n",
    "\n",
    "def target_tracker(current_value: float) -> float:\n",
    "    if (\n",
    "        np.isnan(upper_bound)\n",
    "        or abs(upper_bound - current_value) / abs(current_value + 0.1) > 0.2\n",
    "    ):\n",
    "        fixed_target = fixed_tracker(current_value)\n",
    "        result = max(fixed_target, lower_cost_estimate)\n",
    "    else:\n",
    "        result = upper_bound\n",
    "    current_target = result\n",
    "    return result\n",
    "\n",
    "\n",
    "sgd_method = ComposableSubgradientMethod(\n",
    "    sense=-relaxation.sense,\n",
    "    var_lb=var_lb,\n",
    "    var_ub=var_ub,\n",
    "    step_size_fun=PolyakStepSizeRule(-relaxation.sense, target_tracker),\n",
    "    deflection_fun=CFMDeflection(),\n",
    ")\n",
    "\n",
    "vol_method = VolumeAlgorithm(\n",
    "    sense=-relaxation.sense,\n",
    "    var_lb=var_lb,\n",
    "    var_ub=var_ub,\n",
    "    step_size_fun=PolyakStepSizeRule(-relaxation.sense, target_tracker),\n",
    ")\n",
    "\n",
    "bvol_method = BundleVolumeAlgorithm(\n",
    "    sense=-relaxation.sense,\n",
    "    var_lb=var_lb,\n",
    "    var_ub=var_ub,\n",
    "    step_size_fun=PolyakStepSizeRule(-relaxation.sense, target_tracker),\n",
    ")\n",
    "\n",
    "cp = CuttingPlane(sense=-relaxation.sense, var_lb=var_lb, var_ub=var_ub)\n",
    "\n",
    "it = 0\n",
    "max_iter = 60\n",
    "heur_freq = 5\n",
    "\n",
    "multipliers = full_series_dict(\n",
    "    0.0, **{k: v.index for k, v in relaxation.dualized_constraints.items()}\n",
    ")\n",
    "new_multipliers = full_series_dict(\n",
    "    0.0, **{k: v.index for k, v in relaxation.dualized_constraints.items()}\n",
    ")\n",
    "\n",
    "vect_subgradient = allocate_array_for(**multipliers)\n",
    "vect_multipliers = allocate_array_for(**multipliers)\n",
    "new_vect_multipliers = allocate_array_for(**multipliers)\n",
    "\n",
    "ph_vect_subgradient = allocate_array_for(**multipliers)\n",
    "\n",
    "primal_solutions = []\n",
    "algo_kpis = []\n",
    "\n",
    "sgd_algorithms = {\n",
    "    \"standard\": sgd_method,\n",
    "    \"volume\": vol_method,\n",
    "    \"bundle_volume\": bvol_method,\n",
    "}\n",
    "\n",
    "sgd_algorithm = \"bundle_volume\"\n",
    "sgd_alg = sgd_algorithms[sgd_algorithm]\n",
    "\n",
    "sgd_counter = 0\n",
    "cp_counter = 0\n",
    "sgd_max_it = 10\n",
    "cp_max_it = 10\n",
    "sgd_flag = True\n",
    "\n",
    "algorithm = \"\"\n",
    "\n",
    "\n",
    "while True:\n",
    "    kpi = {}\n",
    "\n",
    "    evaluation = relaxation.evaluate(multipliers, mip=1)\n",
    "    primal_solutions.append(evaluation.primal_solution)\n",
    "\n",
    "    series_dict_into_array(vect_subgradient, **evaluation.subgradient)\n",
    "    series_dict_into_array(vect_multipliers, **multipliers)\n",
    "\n",
    "    cp.add_cut(vect_subgradient, evaluation.original_objective)\n",
    "    \n",
    "    if sgd_counter >= sgd_max_it:\n",
    "        sgd_flag = False\n",
    "        sgd_counter = 0\n",
    "    if cp_counter >= cp_max_it:\n",
    "        sgd_flag = True\n",
    "        cp_counter = 0\n",
    "        sgd_alg.restart()\n",
    "\n",
    "    if sgd_flag:\n",
    "        new_vect_multipliers = sgd_alg(evaluation.value, vect_subgradient, vect_multipliers)\n",
    "        sgd_counter += 1\n",
    "        algorithm = sgd_algorithm\n",
    "    else:\n",
    "        cp_counter += 1\n",
    "        cp_primal_bound, new_vect_multipliers = cp.solve(gapRel=0.05, mip=0, options=[\"barrier\", \"crossover\", \"0\"])\n",
    "        kpi[\"cp_primal_bound\"] = cp_primal_bound\n",
    "        algorithm = \"CP\"\n",
    "\n",
    "    \n",
    "    array_into_series_dict(new_vect_multipliers, **new_multipliers)\n",
    "\n",
    "    kpi[\"multipliers\"] = vect_multipliers\n",
    "    kpi[\"subgradient\"] = vect_subgradient\n",
    "    kpi[\"dual_bound\"] = evaluation.value\n",
    "\n",
    "    if relaxation.sense * (best_dual_bound - evaluation.value) > 0:\n",
    "        best_dual_bound = evaluation.value\n",
    "\n",
    "    if it > 0 and it % heur_freq == 0:\n",
    "        intercept, subgradient, solution, ph_value = run_heuristic(\n",
    "            primal_solutions, data\n",
    "        )\n",
    "        if primal_bound > ph_value:\n",
    "            primal_bound = ph_value\n",
    "            primal_solutions.append(solution)\n",
    "            upper_bound = primal_bound\n",
    "            kpi[\"primal_bound\"] = primal_bound\n",
    "\n",
    "        series_dict_into_array(ph_vect_subgradient, **subgradient)\n",
    "        cp.add_cut(vect_subgradient, intercept)\n",
    "    \n",
    "    algo_kpis.append(kpi)\n",
    "\n",
    "    gap = abs(upper_bound - best_dual_bound) / (abs(upper_bound)+1e-4)\n",
    "    cp_gap = abs(cp_primal_bound - best_dual_bound)/(abs(cp_primal_bound)+1e-4)\n",
    "    mult_change = np.linalg.norm(vect_multipliers - new_vect_multipliers)\n",
    "    mult_norm = np.linalg.norm(vect_multipliers)\n",
    "    subgrd_norm = np.linalg.norm(vect_subgradient)\n",
    "\n",
    "    print(\n",
    "        f\"It:{it}\\tAlgorithm:{algorithm}\\tbest dual bound: {best_dual_bound:6.4g},\\t\"\n",
    "        + f\"best primal: {upper_bound:6.4g}\\tgap: {gap*100:5.2f}%\\tCP gap:{cp_gap*100:5.2f}%\\n\"\n",
    "        + f\"  => mult. norm: {mult_norm:6.4g},\\t subgrd. norm: {subgrd_norm:6.4g},\\tmult. change:{mult_change:5.2g}\"\n",
    "    )\n",
    "\n",
    "    it += 1\n",
    "    multipliers = new_multipliers\n",
    "\n",
    "    if gap < 0.01 or it > max_iter:\n",
    "        break"
   ]
  },
  {
   "cell_type": "code",
   "execution_count": null,
   "metadata": {
    "ExecuteTime": {
     "end_time": "2021-01-18T14:33:04.025824Z",
     "start_time": "2021-01-18T14:33:02.373Z"
    }
   },
   "outputs": [],
   "source": [
    "iteration_info = pd.DataFrame.from_records(algo_kpis)\n",
    "iteration_info"
   ]
  },
  {
   "cell_type": "code",
   "execution_count": null,
   "metadata": {
    "ExecuteTime": {
     "end_time": "2021-01-18T14:33:04.027613Z",
     "start_time": "2021-01-18T14:33:02.377Z"
    }
   },
   "outputs": [],
   "source": [
    "temp = pd.melt(\n",
    "    iteration_info[\n",
    "        [\"iteration\", \"dual_bound\", \"best_dual_bound\", \"cp_best_primal_bound\"]\n",
    "    ],\n",
    "    id_vars=[\"iteration\"],\n",
    ")\n",
    "\n",
    "best_dual = iteration_info[\"best_dual_bound\"].max()\n",
    "best_primal = iteration_info[\"cp_best_primal_bound\"].min()\n",
    "\n",
    "delta = max(abs(best_dual), abs(best_primal)) * 0.25\n",
    "ggplot(\n",
    "    temp, aes(x=\"iteration\", y=\"value\", color=\"variable\", shape=\"variable\")\n",
    ") + geom_line() + geom_point() + coord_cartesian(ylim=(best_dual - delta, best_primal + delta))"
   ]
  },
  {
   "cell_type": "code",
   "execution_count": null,
   "metadata": {
    "ExecuteTime": {
     "end_time": "2021-01-18T14:33:04.029116Z",
     "start_time": "2021-01-18T14:33:02.381Z"
    }
   },
   "outputs": [],
   "source": [
    "from sklearn.manifold import TSNE, MDS \n",
    "from sklearn.preprocessing import StandardScaler, FunctionTransformer\n",
    "from sklearn.decomposition import PCA, SparsePCA, FastICA, NMF"
   ]
  },
  {
   "cell_type": "code",
   "execution_count": null,
   "metadata": {
    "ExecuteTime": {
     "end_time": "2021-01-18T14:33:04.030382Z",
     "start_time": "2021-01-18T14:33:02.383Z"
    }
   },
   "outputs": [],
   "source": [
    "vect_matrix = np.vstack(iteration_info[\"multipliers_vector\"][4:].to_list())\n",
    "vect_matrix.shape\n",
    "\n",
    "X=PCA(n_components=3).fit_transform(StandardScaler().fit_transform(vect_matrix))\n",
    "df = pd.DataFrame(X, columns=[f\"x{i}\" for i in range(X.shape[1])]).reset_index().rename(columns={\"index\":\"iteration\"})\n",
    "df[\"iteration\"]+=4\n",
    "df = pd.merge(df, iteration_info[[\"iteration\", \"dual_bound\"]])\n",
    "\n",
    "temp = pd.melt(df, id_vars=[\"iteration\", \"dual_bound\", \"x0\"])\n",
    "\n",
    "delta_y = (temp[\"value\"].max()- temp[\"value\"].min())/40\n",
    "delta_x = (temp[\"x0\"].max()- temp[\"x0\"].min())/40\n",
    "temp[\"label_pos_y\"]=temp[\"value\"]+delta_y\n",
    "temp[\"label_pos_x\"]=temp[\"x0\"]+delta_x\n",
    "ggplot(temp, aes(\"x0\", \"value\", color=\"dual_bound\")) \\\n",
    "+ geom_point(size=2) \\\n",
    "+ geom_text(aes(label=\"iteration\",x=\"label_pos_x\", y=\"label_pos_y\"), position=position_jitter(width=0.4), color=\"black\") + facet_wrap(\"~variable\")"
   ]
  },
  {
   "cell_type": "code",
   "execution_count": null,
   "metadata": {
    "ExecuteTime": {
     "end_time": "2021-01-18T14:33:04.031654Z",
     "start_time": "2021-01-18T14:33:02.385Z"
    }
   },
   "outputs": [],
   "source": [
    "solution = dual_bounds_list[-1].primal_solution"
   ]
  },
  {
   "cell_type": "code",
   "execution_count": null,
   "metadata": {
    "ExecuteTime": {
     "end_time": "2021-01-18T14:33:04.033466Z",
     "start_time": "2021-01-18T14:33:02.389Z"
    }
   },
   "outputs": [],
   "source": [
    "solution[\"s\"].groupby(level=\"plant\").sum()"
   ]
  },
  {
   "cell_type": "code",
   "execution_count": null,
   "metadata": {
    "ExecuteTime": {
     "end_time": "2021-01-18T14:33:04.035202Z",
     "start_time": "2021-01-18T14:33:02.393Z"
    }
   },
   "outputs": [],
   "source": [
    "solution[\"p\"].groupby(level=\"period\").sum()"
   ]
  },
  {
   "cell_type": "code",
   "execution_count": null,
   "metadata": {
    "ExecuteTime": {
     "end_time": "2021-01-18T14:33:04.038140Z",
     "start_time": "2021-01-18T14:33:02.401Z"
    },
    "scrolled": true
   },
   "outputs": [],
   "source": [
    "tot_production = solution[\"p\"].groupby(level=[\"period\"]).sum().reset_index()\n",
    "\n",
    "tot_production = pd.merge(tot_production, data.loads[[\"period\", \"value\"]], on=\"period\")\n",
    "\n",
    "tot_production = tot_production.rename(columns={\"value\": \"load\"})\n",
    "tot_production = pd.melt(tot_production, id_vars=[\"period\"])\n",
    "ggplot(tot_production, aes(\"period\", \"value\", color=\"variable\", linetype=\"variable\")) \\\n",
    "    + geom_step(size=2) \\\n",
    "    + scale_color_discrete(name=\"Series\", breaks=[\"load\", \"p\"], labels=[\"Load\", \"Production\"]) \\\n",
    "    + scale_linetype_discrete(name=\"Series\", breaks=[\"load\", \"p\"], labels=[\"Load\", \"Production\"]) \\\n",
    "    + labs(y=\"Value [MW]\") \\\n",
    "    + ggtitle(\"Production vs Load\")"
   ]
  },
  {
   "cell_type": "code",
   "execution_count": null,
   "metadata": {
    "ExecuteTime": {
     "end_time": "2021-01-18T14:33:04.040766Z",
     "start_time": "2021-01-18T14:33:02.416Z"
    }
   },
   "outputs": [],
   "source": [
    "demand_gap = pd.DataFrame(EIE=solution[\"EIE\"], ENP=solution[\"ENP\"])\n",
    "demand_gap = pd.melt(demand_gap, id_vars=\"period\", var_name=\"Series\")\n",
    "\n",
    "ggplot(demand_gap, aes(x=\"period\", y=\"value\", color=\"Series\", linetype=\"Series\")) \\\n",
    "    + geom_step(size=2) \\\n",
    "    + labs(x=\"period\", y=\"Value [MW]\") \\\n",
    "    + ggtitle(\"Demand mismatch\")"
   ]
  },
  {
   "cell_type": "code",
   "execution_count": null,
   "metadata": {
    "ExecuteTime": {
     "end_time": "2021-01-18T14:33:04.042684Z",
     "start_time": "2021-01-18T14:33:02.425Z"
    }
   },
   "outputs": [],
   "source": [
    "ggplot(solution[\"p\"], aes(\"period\", \"production\")) \\\n",
    "    + geom_step() \\\n",
    "    + facet_wrap(\"~plant\", labeller=lambda s: f\"plant #{s}\") \\\n",
    "    + labs(x=\"hour\", y=\"production [MW]\") \\\n",
    "    + ggtitle(\"Hourly production per plant\")"
   ]
  },
  {
   "cell_type": "code",
   "execution_count": null,
   "metadata": {
    "ExecuteTime": {
     "end_time": "2021-01-18T14:33:04.044761Z",
     "start_time": "2021-01-18T14:33:02.428Z"
    }
   },
   "outputs": [],
   "source": [
    "avg_coef = data.thermal_plants.copy()\n",
    "avg_coef[\"avg_coef\"] = avg_coef.l_cost + (avg_coef.c_cost / avg_coef.max_power)\n",
    "\n",
    "utilization = solution[\"p\"].groupby(\"plant\").agg({\"production\": \"sum\"}).reset_index(0)\n",
    "\n",
    "utilization = utilization.merge(data.thermal_plants[[\"plant\", \"max_power\"]])\n",
    "\n",
    "utilization[\"utilization\"] = utilization.production / (utilization.max_power * len(data.time))\n",
    "\n",
    "temp = avg_coef[[\"plant\", \"avg_coef\"]]\\\n",
    "    .merge(utilization, sort=True)\\\n",
    "    [[\"plant\", \"utilization\", \"avg_coef\"]]\n",
    "\n",
    "ggplot(temp, aes(\"avg_coef\", \"utilization\")) \\\n",
    "    + geom_point(size=2) \\\n",
    "    + geom_text(aes(y=\"utilization+0.04\", label=\"plant\")) \\\n",
    "    + scale_y_continuous(labels=percent_format()) \\\n",
    "    + labs(x=\"Avg. Hourly cost [€/MW]\", y=\"Utilization %\", label=\"Plant id\") \\\n",
    "    + ggtitle(\"Utilization vs Hourly cost\")"
   ]
  },
  {
   "cell_type": "code",
   "execution_count": null,
   "metadata": {
    "ExecuteTime": {
     "end_time": "2021-01-18T14:33:04.046720Z",
     "start_time": "2021-01-18T14:33:02.434Z"
    }
   },
   "outputs": [],
   "source": [
    "from pulp import *\n",
    "import sys\n",
    "print(f\"==> PuLP version:\")\n",
    "!{sys.executable} -m pip show pulp\n",
    "\n",
    "problem = LpProblem(sense=LpMaximize)\n",
    "\n",
    "z = LpVariable(\"z\")\n",
    "x = LpVariable(\"x\",2,5)\n",
    "y = LpVariable(\"y\", 1,3)\n",
    "\n",
    "problem.addConstraint(z+x+0.0*y <=1)\n",
    "\n",
    "print(\"\\n==>Solving problem as created in PuLP\")\n",
    "problem.writeLP(\"problem.lp\")\n",
    "problem.solve()\n",
    "\n",
    "print(\"=>PuLP solution\")\n",
    "print(f\"z={z.value()}\")\n",
    "print(f\"x={x.value()}\")\n",
    "print(f\"y={y.value()} <-- PROBLEM: this one is going to be None\")\n",
    "\n",
    "print(\"\\n\")\n",
    "\n",
    "print(\"\\n==> Solving problem manually written in LP format\")\n",
    "!cat problem2.lp\n",
    "print(\"Calling CBC\")\n",
    "!cbc problem2.lp solve solu solution.txt\n",
    "print(\"Solution computed by CBC\")\n",
    "!cat solution.txt"
   ]
  },
  {
   "cell_type": "code",
   "execution_count": null,
   "metadata": {},
   "outputs": [],
   "source": []
  },
  {
   "cell_type": "code",
   "execution_count": null,
   "metadata": {},
   "outputs": [],
   "source": []
  }
 ],
 "metadata": {
  "kernelspec": {
   "display_name": "experiments3.8",
   "language": "python",
   "name": "experiments3.8"
  },
  "language_info": {
   "codemirror_mode": {
    "name": "ipython",
    "version": 3
   },
   "file_extension": ".py",
   "mimetype": "text/x-python",
   "name": "python",
   "nbconvert_exporter": "python",
   "pygments_lexer": "ipython3",
   "version": "3.8.0"
  }
 },
 "nbformat": 4,
 "nbformat_minor": 2
}

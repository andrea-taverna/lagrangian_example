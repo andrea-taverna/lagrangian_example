{
 "cells": [
  {
   "cell_type": "markdown",
   "id": "a1b2b00d",
   "metadata": {},
   "source": [
    "$$\\newcommand{\\var}[1]{\\color{blue}{#1}}$$\n",
    "$$\\newcommand{\\mult}[1]{\\color{red}{#1}}$$"
   ]
  },
  {
   "cell_type": "markdown",
   "id": "2aad375f",
   "metadata": {},
   "source": [
    "# Example of non-smooth Lagrangian Dual Problem\n",
    "\n",
    "Consider\n",
    "$$\\begin{align*}\n",
    "\\max ~& \\var{x}\\\\\n",
    " & \\var{x} \\le 0.25\\\\\n",
    " & 0 \\le \\var{x} \\le 1\n",
    "\\end{align*}\n",
    "$$\n",
    "and its dual\n",
    "\n",
    "$$\n",
    "\\min_{\\mult{\\lambda}\\ge 0} \\mathcal{D}(\\mult{\\lambda}) = \\max_{0\\le\\var{x}\\le 1}   \\var{x} - \\mult{\\lambda} (\\var{x}-0.25) =  \\max_{0\\le\\var{x}\\le 1}   (1 - \\mult{\\lambda}) \\var{x} + 0.25\\mult{\\lambda} \n",
    "$$"
   ]
  },
  {
   "cell_type": "markdown",
   "id": "d2076e2f",
   "metadata": {},
   "source": [
    "The gradient of $\\mathcal{D}$ is given by $\\frac{\\partial}{\\partial \\mult\\lambda}\\mathcal{D} ({\\mult\\lambda})$ $ = -(x_{\\lambda} - 0.25)$ where \n",
    "$$x_{\\lambda} = \\arg \\max_{0\\le\\var{x}\\le 1}   (1 - \\mult{\\lambda}) \\var{x} + 0.25\\mult{\\lambda}$$ \n",
    "is a solution to the inner/relaxed problem.\n",
    "\n",
    "For $\\mult\\lambda=1$ the gradient is not defined:\n",
    "$$\\frac{\\partial}{\\partial \\lambda}\\mathcal{D} (1) = \\begin{cases}\n",
    "-0.75 \\; (x_\\lambda = 1) & \\lambda \\rightarrow 1^-\\\\ \n",
    "\\phantom{-}0.25 \\; (x_\\lambda = 0) & \\lambda \\rightarrow 1^+\n",
    "\\end{cases}$$"
   ]
  },
  {
   "cell_type": "code",
   "execution_count": null,
   "id": "7d262436",
   "metadata": {},
   "outputs": [],
   "source": []
  }
 ],
 "metadata": {
  "kernelspec": {
   "display_name": "Python 3",
   "language": "python",
   "name": "python3"
  },
  "language_info": {
   "codemirror_mode": {
    "name": "ipython",
    "version": 3
   },
   "file_extension": ".py",
   "mimetype": "text/x-python",
   "name": "python",
   "nbconvert_exporter": "python",
   "pygments_lexer": "ipython3",
   "version": "3.8.12"
  }
 },
 "nbformat": 4,
 "nbformat_minor": 5
}
